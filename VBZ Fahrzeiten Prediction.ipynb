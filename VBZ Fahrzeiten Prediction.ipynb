{
 "cells": [
  {
   "cell_type": "markdown",
   "metadata": {},
   "source": [
    "Data ist from https://data.stadt-zuerich.ch/dataset/vbz-fahrzeiten-ogd . I used `head -n 1000000 fahrzeitensollist2017070220170708.csv > small.csv` to make a subset to start with.\n",
    "\n",
    "We try different models to predict waiting time for a specific station (Goldbrunnenplatz) and line (tram 9) when time of day is given.\n",
    "\n",
    "Since we are doing prediction rather than classical statistics, I decided to work with the package `scikit-learn` and not with `statsmodels`, even if `statsmodels` may be better for regressions."
   ]
  },
  {
   "cell_type": "code",
   "execution_count": 1,
   "metadata": {},
   "outputs": [],
   "source": [
    "%matplotlib inline\n",
    "import numpy\n",
    "\n",
    "from datetime import datetime, timedelta\n",
    "\n",
    "import matplotlib\n",
    "import matplotlib.mlab as mlab\n",
    "import matplotlib.pyplot as plt\n",
    "import matplotlib.dates as mdates\n",
    "\n",
    "import pandas as pd\n",
    "\n",
    "# Make plots reproducible\n",
    "numpy.random.seed(0)\n",
    "\n",
    "# Not necessary, but I like the ggplot style better\n",
    "plt.style.use('ggplot') \n",
    "\n",
    "# Read csv to dataframe\n",
    "df = pd.read_csv('small.csv')\n",
    "df_hpunkt = pd.read_csv('haltepunkt.csv')\n",
    "df_hstelle = pd.read_csv('haltestelle.csv')"
   ]
  },
  {
   "cell_type": "markdown",
   "metadata": {},
   "source": [
    "Let's get the row of the station and line."
   ]
  },
  {
   "cell_type": "code",
   "execution_count": 2,
   "metadata": {},
   "outputs": [
    {
     "name": "stdout",
     "output_type": "stream",
     "text": [
      "       linie  richtung betriebsdatum  fahrzeug  kurs  seq_von  halt_diva_von  \\\n",
      "25910      9         2      02.07.17      3045     9        4           1012   \n",
      "25924      9         1      02.07.17      2087     6       30           1012   \n",
      "25978      9         1      02.07.17      3054     7       30           1012   \n",
      "26002      9         1      02.07.17      3045     9       30           1012   \n",
      "26061      9         2      02.07.17      3054     7        4           1012   \n",
      "\n",
      "       halt_punkt_diva_von halt_kurz_von1 datum_von         ...          \\\n",
      "25910                    1           GOLP  02.07.17         ...           \n",
      "25924                    0           GOLP  02.07.17         ...           \n",
      "25978                    0           GOLP  02.07.17         ...           \n",
      "26002                    0           GOLP  02.07.17         ...           \n",
      "26061                    1           GOLP  02.07.17         ...           \n",
      "\n",
      "       fahrweg_id  fw_no  fw_typ  fw_kurz      fw_lang  umlauf_von  \\\n",
      "25910       50260      2       1        2  HEUR - HIRZ      137963   \n",
      "25924       50259      1       1        1  HIRZ - HEUR      135413   \n",
      "25978       50259      1       1        1  HIRZ - HEUR      136401   \n",
      "26002       50259      1       1        1  HIRZ - HEUR      137963   \n",
      "26061       50260      2       1        2  HEUR - HIRZ      136401   \n",
      "\n",
      "       halt_id_von halt_id_nach halt_punkt_id_von  halt_punkt_id_nach  \n",
      "25910          701         2060              1558               13552  \n",
      "25924          701         2627             11584               11393  \n",
      "25978          701         2627             11584               11393  \n",
      "26002          701         2627             11584               11393  \n",
      "26061          701         2060              1558               13552  \n",
      "\n",
      "[5 rows x 34 columns]\n"
     ]
    }
   ],
   "source": [
    "halt_id = df_hstelle[df_hstelle['halt_lang'] == 'Zürich, Goldbrunnenplatz']['halt_id'].item()\n",
    "linie = 9\n",
    "print(df[(df['halt_id_von'] == halt_id) & (df['linie'] == linie)].head())"
   ]
  },
  {
   "cell_type": "markdown",
   "metadata": {},
   "source": [
    "Before we predict, let's explore the data a little bit.\n",
    "\n",
    "..."
   ]
  },
  {
   "cell_type": "markdown",
   "metadata": {},
   "source": [
    "## Multiple linear regression\n",
    "1. Take continuous variables as independent variables.\n",
    "2. Put them into a regression to predict delays. This gives a regression model.\n",
    "3. Then drop the insignificant variables from the model and rerun it. Let's see what r^2 we get."
   ]
  },
  {
   "cell_type": "code",
   "execution_count": 15,
   "metadata": {},
   "outputs": [
    {
     "name": "stdout",
     "output_type": "stream",
     "text": [
      "Coefficients: \n",
      " [ 0.00889658  0.        ]\n",
      "Mean squared error: 1785.55\n",
      "Variance score: -0.04\n"
     ]
    },
    {
     "data": {
      "image/png": "[encoded data removed]",
      "text/plain": [
       "<matplotlib.figure.Figure at 0x108968da0>"
      ]
     },
     "metadata": {},
     "output_type": "display_data"
    }
   ],
   "source": [
    "from sklearn import linear_model\n",
    "\n",
    "def makeDatetime(date, seconds):\n",
    "    \"\"\"Returns datetime object rounded to the hour.\n",
    "    \n",
    "    date: date in format dd.mm.yy\n",
    "    seconds: seconds of the day (int, can be negative)\n",
    "    \"\"\"\n",
    "    hour = int(seconds / 3600) # same as numpy.floor()\n",
    "    minute = int((seconds - hour * 3600) / 60)\n",
    "\n",
    "    dt_obj = datetime.strptime(date, '%d.%m.%y')\n",
    "    if hour >= 24:\n",
    "        dt_obj += timedelta(days=1)\n",
    "        hour -= 24\n",
    "    if hour < 0:\n",
    "        dt_obj += timedelta(days=-1)\n",
    "        hour += 24\n",
    "    dt_obj = dt_obj.replace(hour=hour)\n",
    "    \n",
    "    if minute >= 60:\n",
    "        dt_obj += timedelta(hours=1)\n",
    "        minute -= 60\n",
    "    if minute < 0:\n",
    "        dt_obj += timedelta(hours=-1)\n",
    "        minute += 60\n",
    "    dt_obj = dt_obj.replace(minute=minute)\n",
    "\n",
    "    return dt_obj\n",
    "\n",
    "\n",
    "data_x = []\n",
    "data_y = []\n",
    "for index, row in df[(df['halt_id_von'] == halt_id) & (df['linie'] == linie)].iterrows():\n",
    "    # It may cause problems that \"richtung\" has discrete values\n",
    "    dt_obj = makeDatetime(row['datum_von'], row['soll_an_von'])\n",
    "    \n",
    "    d = [dt_obj.hour * 60 + dt_obj.minute, 0]\n",
    "    data_x.append(d)\n",
    "    \n",
    "    diff = row['ist_an_von'] - row['soll_an_von']\n",
    "    data_y.append(diff)\n",
    "\n",
    "# Convert to numpy array\n",
    "data_x = numpy.array(data_x)#.reshape(len(data_x), 1)\n",
    "data_y = numpy.array(data_y)\n",
    "    \n",
    "# Split data into training and test set\n",
    "length = len(data_x)\n",
    "data_x_train = data_x[:-int(length*1/5)]\n",
    "data_x_test = data_x[-(length-len(data_x_train)):]\n",
    "\n",
    "data_y_train = data_y[:-int(length*1/5)]\n",
    "data_y_test = data_y[-(length-len(data_y_train)):]\n",
    "\n",
    "# Create the model\n",
    "regr = linear_model.LinearRegression()\n",
    "\n",
    "# Train the model using the training sets\n",
    "regr.fit(data_x_train, data_y_train)\n",
    "\n",
    "# The coefficients\n",
    "print('Coefficients: \\n', regr.coef_)\n",
    "# The mean squared error\n",
    "print(\"Mean squared error: %.2f\"\n",
    "      % numpy.mean((regr.predict(data_x_test) - data_y_test) ** 2))\n",
    "# Explained variance score: 1 is perfect prediction\n",
    "print('Variance score: %.2f' % regr.score(data_x_test, data_y_test))\n",
    "\n",
    "# Plot outputs\n",
    "plt.scatter(data_x_test[:, 0], data_y_test)\n",
    "plt.plot(data_x_test, regr.predict(data_x_test), color='b', linewidth=1)\n",
    "\n",
    "plt.xlabel('\"ist_an_von\" [s]')\n",
    "plt.ylabel('Diff prediction')\n",
    "plt.show()"
   ]
  },
  {
   "cell_type": "markdown",
   "metadata": {},
   "source": [
    "The model is not able to predict anything from the given data.\n",
    "\n",
    "Let's plot the difference of times (delay) against time of day."
   ]
  },
  {
   "cell_type": "code",
   "execution_count": null,
   "metadata": {},
   "outputs": [],
   "source": [
    "tod_diff = {}\n",
    "for index, row in df.iterrows():\n",
    "    dt_obj = makeDatetime(row['datum_von'], row['ist_an_von']) # time from \"soll\"\n",
    "    diff = row['ist_an_von'] - row['soll_an_von']\n",
    "    \n",
    "    if dt_obj not in tod_diff: \n",
    "        tod_diff[dt_obj] = []        \n",
    "    tod_diff[dt_obj].append(diff)\n",
    "\n",
    "tod_times = [] # x\n",
    "tod_avgs = [] # y\n",
    "tod_medians = []\n",
    "tod_perc = []\n",
    "tod_perc2 = []\n",
    "for dt_obj in sorted(tod_diff):\n",
    "    dt_diffs = tod_diff[dt_obj]\n",
    "\n",
    "    mean = numpy.mean(dt_diffs)\n",
    "    std = numpy.std(dt_diffs)\n",
    "    \n",
    "    tod_times.append(dt_obj)\n",
    "    tod_avgs.append(mean)\n",
    "    tod_medians.append(numpy.median(dt_diffs))\n",
    "    tod_perc.append(mean + std)\n",
    "    tod_perc2.append(mean - std)\n",
    "\n",
    "# Plot\n",
    "fig, ax = plt.subplots(1)\n",
    "fig.autofmt_xdate()\n",
    "\n",
    "# y\n",
    "ax.plot(tod_times, tod_avgs, label='avg')\n",
    "ax.plot(tod_times, tod_medians, 'g', label='median')\n",
    "ax.plot(tod_times, tod_perc, 'grey', label='1 std')\n",
    "ax.plot(tod_times, tod_perc2, 'grey', label='')\n",
    "ax.legend()\n",
    "ax.set_ylabel('ist - soll [s]')\n",
    "xfmt = mdates.DateFormatter('%H:%M')\n",
    "ax.xaxis.set_major_formatter(xfmt)\n",
    "ax.set_ylim([-100, 100])\n",
    "\n",
    "plt.show()"
   ]
  },
  {
   "cell_type": "markdown",
   "metadata": {},
   "source": [
    "There seems to be a pattern which predicts when delays will be high and low. Why doesn't the linear regression reproduces that?"
   ]
  },
  {
   "cell_type": "code",
   "execution_count": null,
   "metadata": {
    "collapsed": true
   },
   "outputs": [],
   "source": []
  }
 ],
 "metadata": {
  "kernelspec": {
   "display_name": "Python 3",
   "language": "python",
   "name": "python3"
  },
  "language_info": {
   "codemirror_mode": {
    "name": "ipython",
    "version": 3
   },
   "file_extension": ".py",
   "mimetype": "text/x-python",
   "name": "python",
   "nbconvert_exporter": "python",
   "pygments_lexer": "ipython3",
   "version": "3.5.0"
  }
 },
 "nbformat": 4,
 "nbformat_minor": 2
}
